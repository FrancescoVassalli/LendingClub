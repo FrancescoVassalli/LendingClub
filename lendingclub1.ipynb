{
 "cells": [
  {
   "cell_type": "markdown",
   "metadata": {},
   "source": [
    "# Header \n"
   ]
  },
  {
   "cell_type": "code",
   "execution_count": 2,
   "metadata": {},
   "outputs": [],
   "source": [
    "import pandas as pd\n",
    "import matplotlib.pyplot as plt\n",
    "import numpy as np\n",
    "from sklearn import preprocessing\n",
    "from sklearn import ensemble\n",
    "from sklearn.decomposition import PCA\n",
    "from sklearn.cross_decomposition import PLSRegression\n",
    "from sklearn.linear_model import LinearRegression\n",
    "from sklearn.linear_model import LogisticRegression\n",
    "from sklearn.model_selection import train_test_split as dataSplitter\n",
    "from sklearn.model_selection import GridSearchCV\n",
    "import scipy.stats as stats\n",
    "from scipy.optimize import curve_fit as fitter\n",
    "import math"
   ]
  },
  {
   "cell_type": "code",
   "execution_count": 3,
   "metadata": {},
   "outputs": [
    {
     "data": {
      "text/html": [
       "<div>\n",
       "<style scoped>\n",
       "    .dataframe tbody tr th:only-of-type {\n",
       "        vertical-align: middle;\n",
       "    }\n",
       "\n",
       "    .dataframe tbody tr th {\n",
       "        vertical-align: top;\n",
       "    }\n",
       "\n",
       "    .dataframe thead th {\n",
       "        text-align: right;\n",
       "    }\n",
       "</style>\n",
       "<table border=\"1\" class=\"dataframe\">\n",
       "  <thead>\n",
       "    <tr style=\"text-align: right;\">\n",
       "      <th></th>\n",
       "      <th>LoanId</th>\n",
       "      <th>OrderId</th>\n",
       "      <th>PortfolioId</th>\n",
       "      <th>NoteId</th>\n",
       "      <th>Invested</th>\n",
       "      <th>InterestRate</th>\n",
       "      <th>Grade</th>\n",
       "      <th>LoanType</th>\n",
       "      <th>Term</th>\n",
       "      <th>PrincipalRemaining</th>\n",
       "      <th>...</th>\n",
       "      <th>open_rv_24m</th>\n",
       "      <th>max_bal_bc</th>\n",
       "      <th>all_util</th>\n",
       "      <th>inq_fi</th>\n",
       "      <th>total_cu_tl</th>\n",
       "      <th>inq_last_12m</th>\n",
       "      <th>PURCHASE_PRINCIPAL</th>\n",
       "      <th>PURCHASE_INTEREST</th>\n",
       "      <th>PRINCIPAL_RECEIVED</th>\n",
       "      <th>INTEREST_RECEIVED</th>\n",
       "    </tr>\n",
       "  </thead>\n",
       "  <tbody>\n",
       "    <tr>\n",
       "      <td>0</td>\n",
       "      <td>62127260</td>\n",
       "      <td>133566975</td>\n",
       "      <td>167112082</td>\n",
       "      <td>143275084</td>\n",
       "      <td>25</td>\n",
       "      <td>18.99%</td>\n",
       "      <td>D3</td>\n",
       "      <td>Personal</td>\n",
       "      <td>36</td>\n",
       "      <td>2.679266</td>\n",
       "      <td>...</td>\n",
       "      <td>2.0</td>\n",
       "      <td>8054.0</td>\n",
       "      <td>61.0</td>\n",
       "      <td>1.0</td>\n",
       "      <td>3.0</td>\n",
       "      <td>3.0</td>\n",
       "      <td>25</td>\n",
       "      <td>0</td>\n",
       "      <td>22.320734</td>\n",
       "      <td>8.001124</td>\n",
       "    </tr>\n",
       "    <tr>\n",
       "      <td>1</td>\n",
       "      <td>70904954</td>\n",
       "      <td>133566975</td>\n",
       "      <td>167112082</td>\n",
       "      <td>143275086</td>\n",
       "      <td>25</td>\n",
       "      <td>7.99%</td>\n",
       "      <td>A5</td>\n",
       "      <td>Personal</td>\n",
       "      <td>36</td>\n",
       "      <td>1.550690</td>\n",
       "      <td>...</td>\n",
       "      <td>6.0</td>\n",
       "      <td>5113.0</td>\n",
       "      <td>41.0</td>\n",
       "      <td>4.0</td>\n",
       "      <td>0.0</td>\n",
       "      <td>2.0</td>\n",
       "      <td>25</td>\n",
       "      <td>0</td>\n",
       "      <td>23.449310</td>\n",
       "      <td>3.188582</td>\n",
       "    </tr>\n",
       "    <tr>\n",
       "      <td>2</td>\n",
       "      <td>87255474</td>\n",
       "      <td>127709459</td>\n",
       "      <td>167112084</td>\n",
       "      <td>138178962</td>\n",
       "      <td>25</td>\n",
       "      <td>7.59%</td>\n",
       "      <td>A3</td>\n",
       "      <td>Personal</td>\n",
       "      <td>36</td>\n",
       "      <td>0.000000</td>\n",
       "      <td>...</td>\n",
       "      <td>3.0</td>\n",
       "      <td>3572.0</td>\n",
       "      <td>57.0</td>\n",
       "      <td>2.0</td>\n",
       "      <td>0.0</td>\n",
       "      <td>2.0</td>\n",
       "      <td>25</td>\n",
       "      <td>0</td>\n",
       "      <td>25.000000</td>\n",
       "      <td>2.844445</td>\n",
       "    </tr>\n",
       "    <tr>\n",
       "      <td>3</td>\n",
       "      <td>88535138</td>\n",
       "      <td>127749223</td>\n",
       "      <td>167112084</td>\n",
       "      <td>138149319</td>\n",
       "      <td>25</td>\n",
       "      <td>16.99%</td>\n",
       "      <td>D1</td>\n",
       "      <td>Personal</td>\n",
       "      <td>36</td>\n",
       "      <td>0.000000</td>\n",
       "      <td>...</td>\n",
       "      <td>6.0</td>\n",
       "      <td>6340.0</td>\n",
       "      <td>54.0</td>\n",
       "      <td>0.0</td>\n",
       "      <td>0.0</td>\n",
       "      <td>0.0</td>\n",
       "      <td>25</td>\n",
       "      <td>0</td>\n",
       "      <td>25.000000</td>\n",
       "      <td>7.035707</td>\n",
       "    </tr>\n",
       "    <tr>\n",
       "      <td>4</td>\n",
       "      <td>88593479</td>\n",
       "      <td>127709459</td>\n",
       "      <td>167112082</td>\n",
       "      <td>138178963</td>\n",
       "      <td>25</td>\n",
       "      <td>16.99%</td>\n",
       "      <td>D1</td>\n",
       "      <td>Personal</td>\n",
       "      <td>36</td>\n",
       "      <td>0.024581</td>\n",
       "      <td>...</td>\n",
       "      <td>0.0</td>\n",
       "      <td>1687.0</td>\n",
       "      <td>70.0</td>\n",
       "      <td>2.0</td>\n",
       "      <td>0.0</td>\n",
       "      <td>1.0</td>\n",
       "      <td>25</td>\n",
       "      <td>0</td>\n",
       "      <td>24.975419</td>\n",
       "      <td>7.060581</td>\n",
       "    </tr>\n",
       "  </tbody>\n",
       "</table>\n",
       "<p>5 rows × 128 columns</p>\n",
       "</div>"
      ],
      "text/plain": [
       "     LoanId    OrderId  PortfolioId     NoteId  Invested InterestRate Grade  \\\n",
       "0  62127260  133566975    167112082  143275084        25       18.99%    D3   \n",
       "1  70904954  133566975    167112082  143275086        25        7.99%    A5   \n",
       "2  87255474  127709459    167112084  138178962        25        7.59%    A3   \n",
       "3  88535138  127749223    167112084  138149319        25       16.99%    D1   \n",
       "4  88593479  127709459    167112082  138178963        25       16.99%    D1   \n",
       "\n",
       "   LoanType  Term  PrincipalRemaining  ... open_rv_24m  max_bal_bc  all_util  \\\n",
       "0  Personal    36            2.679266  ...         2.0      8054.0      61.0   \n",
       "1  Personal    36            1.550690  ...         6.0      5113.0      41.0   \n",
       "2  Personal    36            0.000000  ...         3.0      3572.0      57.0   \n",
       "3  Personal    36            0.000000  ...         6.0      6340.0      54.0   \n",
       "4  Personal    36            0.024581  ...         0.0      1687.0      70.0   \n",
       "\n",
       "  inq_fi total_cu_tl inq_last_12m PURCHASE_PRINCIPAL PURCHASE_INTEREST  \\\n",
       "0    1.0         3.0          3.0                 25                 0   \n",
       "1    4.0         0.0          2.0                 25                 0   \n",
       "2    2.0         0.0          2.0                 25                 0   \n",
       "3    0.0         0.0          0.0                 25                 0   \n",
       "4    2.0         0.0          1.0                 25                 0   \n",
       "\n",
       "   PRINCIPAL_RECEIVED  INTEREST_RECEIVED  \n",
       "0           22.320734           8.001124  \n",
       "1           23.449310           3.188582  \n",
       "2           25.000000           2.844445  \n",
       "3           25.000000           7.035707  \n",
       "4           24.975419           7.060581  \n",
       "\n",
       "[5 rows x 128 columns]"
      ]
     },
     "execution_count": 3,
     "metadata": {},
     "output_type": "execute_result"
    }
   ],
   "source": [
    "df_simple = pd.read_csv(\"simpleData.csv\")\n",
    "df_simple.head()"
   ]
  },
  {
   "cell_type": "code",
   "execution_count": 4,
   "metadata": {},
   "outputs": [
    {
     "data": {
      "text/plain": [
       "{'1st Month Payment',\n",
       " 'Accrual',\n",
       " 'Grade',\n",
       " 'INTEREST_RECEIVED',\n",
       " 'InterestRate',\n",
       " 'Invested',\n",
       " 'Loan Issue Date',\n",
       " 'LoanId',\n",
       " 'LoanStatusDate',\n",
       " 'LoanType',\n",
       " 'NextPaymentDate',\n",
       " 'Note Issue Date',\n",
       " 'NoteId',\n",
       " 'OrderDate',\n",
       " 'OrderId',\n",
       " 'PRINCIPAL_RECEIVED',\n",
       " 'PURCHASE_INTEREST',\n",
       " 'PURCHASE_PRINCIPAL',\n",
       " 'PaymentsReceivedToDate',\n",
       " 'Pending Interest',\n",
       " 'Pending Principal Payment',\n",
       " 'PortfolioId',\n",
       " 'PrincipalRemaining',\n",
       " 'Status',\n",
       " 'Term',\n",
       " 'Trend',\n",
       " 'acc_now_delinq',\n",
       " 'acc_open_past_24mths',\n",
       " 'accept_d',\n",
       " 'all_util',\n",
       " 'annual_inc',\n",
       " 'annual_inc_joint',\n",
       " 'application_type',\n",
       " 'avg_cur_bal',\n",
       " 'bc_open_to_buy',\n",
       " 'bc_util',\n",
       " 'chargeoff_within_12_mths',\n",
       " 'collection_recovery_fee',\n",
       " 'collections_12_mths_ex_med',\n",
       " 'delinq_2yrs',\n",
       " 'delinq_amnt',\n",
       " 'desc',\n",
       " 'dti',\n",
       " 'dti_joint',\n",
       " 'emp_length',\n",
       " 'emp_title',\n",
       " 'exp_d',\n",
       " 'fico_range_high',\n",
       " 'fico_range_low',\n",
       " 'home_ownership',\n",
       " 'il_util',\n",
       " 'inq_fi',\n",
       " 'inq_last_12m',\n",
       " 'inq_last_6mths',\n",
       " 'installment',\n",
       " 'is_inc_v',\n",
       " 'last_credit_pull_d',\n",
       " 'last_fico_range_high',\n",
       " 'last_fico_range_low',\n",
       " 'last_pymnt_amnt',\n",
       " 'last_pymnt_d',\n",
       " 'list_d',\n",
       " 'max_bal_bc',\n",
       " 'mo_sin_old_il_acct',\n",
       " 'mo_sin_old_rev_tl_op',\n",
       " 'mo_sin_rcnt_rev_tl_op',\n",
       " 'mo_sin_rcnt_tl',\n",
       " 'mort_acc',\n",
       " 'mths_since_last_delinq',\n",
       " 'mths_since_last_major_derog',\n",
       " 'mths_since_last_record',\n",
       " 'mths_since_rcnt_il',\n",
       " 'mths_since_recent_bc',\n",
       " 'mths_since_recent_bc_dlq',\n",
       " 'mths_since_recent_inq',\n",
       " 'mths_since_recent_revol_delinq',\n",
       " 'next_pymnt_d',\n",
       " 'num_accts_ever_120_pd',\n",
       " 'num_actv_bc_tl',\n",
       " 'num_actv_rev_tl',\n",
       " 'num_bc_sats',\n",
       " 'num_bc_tl',\n",
       " 'num_il_tl',\n",
       " 'num_op_rev_tl',\n",
       " 'num_rev_accts',\n",
       " 'num_rev_tl_bal_gt_0',\n",
       " 'num_sats',\n",
       " 'num_tl_120dpd_2m',\n",
       " 'num_tl_30dpd',\n",
       " 'num_tl_90g_dpd_24m',\n",
       " 'num_tl_op_past_12m',\n",
       " 'open_acc',\n",
       " 'open_acc_6m',\n",
       " 'open_act_il',\n",
       " 'open_il_12m',\n",
       " 'open_il_24m',\n",
       " 'open_rv_12m',\n",
       " 'open_rv_24m',\n",
       " 'out_prncp',\n",
       " 'out_prncp_inv',\n",
       " 'pct_tl_nvr_dlq',\n",
       " 'percent_bc_gt_75',\n",
       " 'pub_rec',\n",
       " 'pub_rec_bankruptcies',\n",
       " 'purpose',\n",
       " 'pymnt_plan',\n",
       " 'recoveries',\n",
       " 'revol_bal',\n",
       " 'revol_util',\n",
       " 'tax_liens',\n",
       " 'tot_coll_amt',\n",
       " 'tot_cur_bal',\n",
       " 'tot_hi_cred_lim',\n",
       " 'total_acc',\n",
       " 'total_bal_ex_mort',\n",
       " 'total_bal_il',\n",
       " 'total_bc_limit',\n",
       " 'total_cu_tl',\n",
       " 'total_il_high_credit_limit',\n",
       " 'total_pymnt',\n",
       " 'total_pymnt_inv',\n",
       " 'total_rec_int',\n",
       " 'total_rec_late_fee',\n",
       " 'total_rec_prncp',\n",
       " 'total_rev_hi_lim',\n",
       " 'url',\n",
       " 'verification_status_joint',\n",
       " 'zip_code'}"
      ]
     },
     "execution_count": 4,
     "metadata": {},
     "output_type": "execute_result"
    }
   ],
   "source": [
    "allnames = set(df_simple.columns)\n",
    "allnames"
   ]
  },
  {
   "cell_type": "markdown",
   "metadata": {},
   "source": [
    "Turn the credit score range into estimated credit score"
   ]
  },
  {
   "cell_type": "code",
   "execution_count": 5,
   "metadata": {},
   "outputs": [
    {
     "data": {
      "text/html": [
       "<div>\n",
       "<style scoped>\n",
       "    .dataframe tbody tr th:only-of-type {\n",
       "        vertical-align: middle;\n",
       "    }\n",
       "\n",
       "    .dataframe tbody tr th {\n",
       "        vertical-align: top;\n",
       "    }\n",
       "\n",
       "    .dataframe thead th {\n",
       "        text-align: right;\n",
       "    }\n",
       "</style>\n",
       "<table border=\"1\" class=\"dataframe\">\n",
       "  <thead>\n",
       "    <tr style=\"text-align: right;\">\n",
       "      <th></th>\n",
       "      <th>LoanId</th>\n",
       "      <th>OrderId</th>\n",
       "      <th>PortfolioId</th>\n",
       "      <th>NoteId</th>\n",
       "      <th>Invested</th>\n",
       "      <th>InterestRate</th>\n",
       "      <th>Grade</th>\n",
       "      <th>LoanType</th>\n",
       "      <th>Term</th>\n",
       "      <th>PrincipalRemaining</th>\n",
       "      <th>...</th>\n",
       "      <th>max_bal_bc</th>\n",
       "      <th>all_util</th>\n",
       "      <th>inq_fi</th>\n",
       "      <th>total_cu_tl</th>\n",
       "      <th>inq_last_12m</th>\n",
       "      <th>PURCHASE_PRINCIPAL</th>\n",
       "      <th>PURCHASE_INTEREST</th>\n",
       "      <th>PRINCIPAL_RECEIVED</th>\n",
       "      <th>INTEREST_RECEIVED</th>\n",
       "      <th>credit_score</th>\n",
       "    </tr>\n",
       "  </thead>\n",
       "  <tbody>\n",
       "    <tr>\n",
       "      <td>0</td>\n",
       "      <td>62127260</td>\n",
       "      <td>133566975</td>\n",
       "      <td>167112082</td>\n",
       "      <td>143275084</td>\n",
       "      <td>25</td>\n",
       "      <td>18.99%</td>\n",
       "      <td>D3</td>\n",
       "      <td>Personal</td>\n",
       "      <td>36</td>\n",
       "      <td>2.679266</td>\n",
       "      <td>...</td>\n",
       "      <td>8054.0</td>\n",
       "      <td>61.0</td>\n",
       "      <td>1.0</td>\n",
       "      <td>3.0</td>\n",
       "      <td>3.0</td>\n",
       "      <td>25</td>\n",
       "      <td>0</td>\n",
       "      <td>22.320734</td>\n",
       "      <td>8.001124</td>\n",
       "      <td>667.0</td>\n",
       "    </tr>\n",
       "    <tr>\n",
       "      <td>1</td>\n",
       "      <td>70904954</td>\n",
       "      <td>133566975</td>\n",
       "      <td>167112082</td>\n",
       "      <td>143275086</td>\n",
       "      <td>25</td>\n",
       "      <td>7.99%</td>\n",
       "      <td>A5</td>\n",
       "      <td>Personal</td>\n",
       "      <td>36</td>\n",
       "      <td>1.550690</td>\n",
       "      <td>...</td>\n",
       "      <td>5113.0</td>\n",
       "      <td>41.0</td>\n",
       "      <td>4.0</td>\n",
       "      <td>0.0</td>\n",
       "      <td>2.0</td>\n",
       "      <td>25</td>\n",
       "      <td>0</td>\n",
       "      <td>23.449310</td>\n",
       "      <td>3.188582</td>\n",
       "      <td>747.0</td>\n",
       "    </tr>\n",
       "    <tr>\n",
       "      <td>2</td>\n",
       "      <td>87255474</td>\n",
       "      <td>127709459</td>\n",
       "      <td>167112084</td>\n",
       "      <td>138178962</td>\n",
       "      <td>25</td>\n",
       "      <td>7.59%</td>\n",
       "      <td>A3</td>\n",
       "      <td>Personal</td>\n",
       "      <td>36</td>\n",
       "      <td>0.000000</td>\n",
       "      <td>...</td>\n",
       "      <td>3572.0</td>\n",
       "      <td>57.0</td>\n",
       "      <td>2.0</td>\n",
       "      <td>0.0</td>\n",
       "      <td>2.0</td>\n",
       "      <td>25</td>\n",
       "      <td>0</td>\n",
       "      <td>25.000000</td>\n",
       "      <td>2.844445</td>\n",
       "      <td>697.0</td>\n",
       "    </tr>\n",
       "    <tr>\n",
       "      <td>3</td>\n",
       "      <td>88535138</td>\n",
       "      <td>127749223</td>\n",
       "      <td>167112084</td>\n",
       "      <td>138149319</td>\n",
       "      <td>25</td>\n",
       "      <td>16.99%</td>\n",
       "      <td>D1</td>\n",
       "      <td>Personal</td>\n",
       "      <td>36</td>\n",
       "      <td>0.000000</td>\n",
       "      <td>...</td>\n",
       "      <td>6340.0</td>\n",
       "      <td>54.0</td>\n",
       "      <td>0.0</td>\n",
       "      <td>0.0</td>\n",
       "      <td>0.0</td>\n",
       "      <td>25</td>\n",
       "      <td>0</td>\n",
       "      <td>25.000000</td>\n",
       "      <td>7.035707</td>\n",
       "      <td>687.0</td>\n",
       "    </tr>\n",
       "    <tr>\n",
       "      <td>4</td>\n",
       "      <td>88593479</td>\n",
       "      <td>127709459</td>\n",
       "      <td>167112082</td>\n",
       "      <td>138178963</td>\n",
       "      <td>25</td>\n",
       "      <td>16.99%</td>\n",
       "      <td>D1</td>\n",
       "      <td>Personal</td>\n",
       "      <td>36</td>\n",
       "      <td>0.024581</td>\n",
       "      <td>...</td>\n",
       "      <td>1687.0</td>\n",
       "      <td>70.0</td>\n",
       "      <td>2.0</td>\n",
       "      <td>0.0</td>\n",
       "      <td>1.0</td>\n",
       "      <td>25</td>\n",
       "      <td>0</td>\n",
       "      <td>24.975419</td>\n",
       "      <td>7.060581</td>\n",
       "      <td>682.0</td>\n",
       "    </tr>\n",
       "  </tbody>\n",
       "</table>\n",
       "<p>5 rows × 129 columns</p>\n",
       "</div>"
      ],
      "text/plain": [
       "     LoanId    OrderId  PortfolioId     NoteId  Invested InterestRate Grade  \\\n",
       "0  62127260  133566975    167112082  143275084        25       18.99%    D3   \n",
       "1  70904954  133566975    167112082  143275086        25        7.99%    A5   \n",
       "2  87255474  127709459    167112084  138178962        25        7.59%    A3   \n",
       "3  88535138  127749223    167112084  138149319        25       16.99%    D1   \n",
       "4  88593479  127709459    167112082  138178963        25       16.99%    D1   \n",
       "\n",
       "   LoanType  Term  PrincipalRemaining  ... max_bal_bc  all_util  inq_fi  \\\n",
       "0  Personal    36            2.679266  ...     8054.0      61.0     1.0   \n",
       "1  Personal    36            1.550690  ...     5113.0      41.0     4.0   \n",
       "2  Personal    36            0.000000  ...     3572.0      57.0     2.0   \n",
       "3  Personal    36            0.000000  ...     6340.0      54.0     0.0   \n",
       "4  Personal    36            0.024581  ...     1687.0      70.0     2.0   \n",
       "\n",
       "  total_cu_tl inq_last_12m PURCHASE_PRINCIPAL PURCHASE_INTEREST  \\\n",
       "0         3.0          3.0                 25                 0   \n",
       "1         0.0          2.0                 25                 0   \n",
       "2         0.0          2.0                 25                 0   \n",
       "3         0.0          0.0                 25                 0   \n",
       "4         0.0          1.0                 25                 0   \n",
       "\n",
       "  PRINCIPAL_RECEIVED  INTEREST_RECEIVED  credit_score  \n",
       "0          22.320734           8.001124         667.0  \n",
       "1          23.449310           3.188582         747.0  \n",
       "2          25.000000           2.844445         697.0  \n",
       "3          25.000000           7.035707         687.0  \n",
       "4          24.975419           7.060581         682.0  \n",
       "\n",
       "[5 rows x 129 columns]"
      ]
     },
     "execution_count": 5,
     "metadata": {},
     "output_type": "execute_result"
    }
   ],
   "source": [
    "df_simple['credit_score']=(df_simple['fico_range_high']+df_simple['fico_range_low'])/2.\n",
    "df_simple.drop(columns = ['last_fico_range_high','last_fico_range_low'])\n",
    "df_simple.head()"
   ]
  },
  {
   "cell_type": "markdown",
   "metadata": {},
   "source": [
    "Classify the loan as \"Charged Off\" which as the high risk loans we don't want. Or as \"Full Paid\" meaning good loan. Don't worry about the other types yet."
   ]
  },
  {
   "cell_type": "code",
   "execution_count": 6,
   "metadata": {},
   "outputs": [],
   "source": [
    "df_simple['Status']=df_simple['Status'].replace('Default','Charged Off')\n",
    "df_simple['Status']=df_simple['Status'].replace('In Grace Period','Charged Off')"
   ]
  },
  {
   "cell_type": "markdown",
   "metadata": {},
   "source": [
    "Turn the employment length into a number."
   ]
  },
  {
   "cell_type": "code",
   "execution_count": 7,
   "metadata": {},
   "outputs": [],
   "source": [
    "def emp_length_map(x):\n",
    "    if type(x) == str:\n",
    "        x=x.replace(' years','')\n",
    "        x=x.replace(' year','')\n",
    "        x=x.replace('+','')\n",
    "        x=x.replace('>','')\n",
    "        x=x.replace('<','')\n",
    "        x=x.replace(' ','')\n",
    "    return x"
   ]
  },
  {
   "cell_type": "code",
   "execution_count": 8,
   "metadata": {},
   "outputs": [
    {
     "data": {
      "text/plain": [
       "{0, '1', '10', '2', '3', '4', '5', '6', '7', '8', '9'}"
      ]
     },
     "execution_count": 8,
     "metadata": {},
     "output_type": "execute_result"
    }
   ],
   "source": [
    "df_simple['emp_length']=df_simple['emp_length'].apply(emp_length_map)\n",
    "df_simple['emp_length']=df_simple['emp_length'].fillna(0)\n",
    "set(df_simple['emp_length'])"
   ]
  },
  {
   "cell_type": "markdown",
   "metadata": {},
   "source": [
    "Recode the \"Grade\" into ordinal numbers. "
   ]
  },
  {
   "cell_type": "code",
   "execution_count": 9,
   "metadata": {},
   "outputs": [],
   "source": [
    "def grade_recoding(x):\n",
    "    if type(x) == str:\n",
    "        x=x.replace('A1','34')\n",
    "        x=x.replace('A2','33')        \n",
    "        x=x.replace('A3','32')        \n",
    "        x=x.replace('A4','31') \n",
    "        x=x.replace('A5','30')        \n",
    "        x=x.replace('B1','29')        \n",
    "        x=x.replace('B2','28')        \n",
    "        x=x.replace('B3','27')        \n",
    "        x=x.replace('B5','26') \n",
    "        x=x.replace('B4','25')        \n",
    "        x=x.replace('C1','24')        \n",
    "        x=x.replace('C2','23')        \n",
    "        x=x.replace('C3','22')        \n",
    "        x=x.replace('C4','21')        \n",
    "        x=x.replace('C5','20') \n",
    "        x=x.replace('D1','19')        \n",
    "        x=x.replace('D2','18')        \n",
    "        x=x.replace('D3','17')        \n",
    "        x=x.replace('D4','16')        \n",
    "        x=x.replace('D5','15') \n",
    "        x=x.replace('E1','14')        \n",
    "        x=x.replace('E2','13')        \n",
    "        x=x.replace('E3','12')        \n",
    "        x=x.replace('E4','11')        \n",
    "        x=x.replace('E5','10')\n",
    "        x=x.replace('F1','9')        \n",
    "        x=x.replace('F2','8')        \n",
    "        x=x.replace('F3','7')        \n",
    "        x=x.replace('F4','6')        \n",
    "        x=x.replace('F5','5')\n",
    "        x=x.replace('G1','4')        \n",
    "        x=x.replace('G2','3')        \n",
    "        x=x.replace('G3','2')        \n",
    "        x=x.replace('G4','1')        \n",
    "        x=x.replace('G5','1')\n",
    "    return x"
   ]
  },
  {
   "cell_type": "code",
   "execution_count": 10,
   "metadata": {},
   "outputs": [
    {
     "data": {
      "text/plain": [
       "{'1',\n",
       " '10',\n",
       " '11',\n",
       " '12',\n",
       " '13',\n",
       " '14',\n",
       " '15',\n",
       " '16',\n",
       " '17',\n",
       " '18',\n",
       " '19',\n",
       " '20',\n",
       " '21',\n",
       " '22',\n",
       " '23',\n",
       " '24',\n",
       " '25',\n",
       " '26',\n",
       " '27',\n",
       " '28',\n",
       " '29',\n",
       " '3',\n",
       " '30',\n",
       " '31',\n",
       " '32',\n",
       " '33',\n",
       " '34',\n",
       " '4',\n",
       " '5',\n",
       " '7',\n",
       " '8',\n",
       " '9'}"
      ]
     },
     "execution_count": 10,
     "metadata": {},
     "output_type": "execute_result"
    }
   ],
   "source": [
    "df_simple['Grade']=df_simple['Grade'].apply(grade_recoding)\n",
    "set(df_simple['Grade'])"
   ]
  },
  {
   "cell_type": "code",
   "execution_count": 11,
   "metadata": {},
   "outputs": [],
   "source": [
    "def revol_util_map(x):\n",
    "    if type(x) == str:\n",
    "        x=x.replace('%','')\n",
    "        x=float(x)\n",
    "    return x\n",
    "df_simple['revol_util']=df_simple['revol_util'].apply(revol_util_map)"
   ]
  },
  {
   "cell_type": "code",
   "execution_count": 12,
   "metadata": {},
   "outputs": [
    {
     "data": {
      "text/plain": [
       "<matplotlib.axes._subplots.AxesSubplot at 0x12060c690>"
      ]
     },
     "execution_count": 12,
     "metadata": {},
     "output_type": "execute_result"
    },
    {
     "data": {
      "image/png": "[encoded data removed]",
      "text/plain": [
       "<Figure size 432x288 with 1 Axes>"
      ]
     },
     "metadata": {
      "needs_background": "light"
     },
     "output_type": "display_data"
    }
   ],
   "source": [
    "df_simple['dti'].hist()"
   ]
  },
  {
   "cell_type": "code",
   "execution_count": 13,
   "metadata": {},
   "outputs": [
    {
     "name": "stdout",
     "output_type": "stream",
     "text": [
      "Charged Off\n",
      "Current\n",
      "Fully Paid\n",
      "Issued\n",
      "Issuing\n",
      "Late (16-30 days)\n",
      "Late (31-120 days)\n"
     ]
    },
    {
     "data": {
      "image/png": "[encoded data removed]",
      "text/plain": [
       "<Figure size 432x288 with 1 Axes>"
      ]
     },
     "metadata": {
      "needs_background": "light"
     },
     "output_type": "display_data"
    }
   ],
   "source": [
    "status_groups = df_simple.groupby(['Status'])\n",
    "for i in status_groups.groups:\n",
    "    print(i)\n",
    "paid_fico_hist = status_groups.get_group('Fully Paid')['credit_score'].hist()"
   ]
  },
  {
   "cell_type": "code",
   "execution_count": 14,
   "metadata": {
    "scrolled": true
   },
   "outputs": [
    {
     "data": {
      "image/png": "[encoded data removed]",
      "text/plain": [
       "<Figure size 432x288 with 1 Axes>"
      ]
     },
     "metadata": {
      "needs_background": "light"
     },
     "output_type": "display_data"
    }
   ],
   "source": [
    "default_fico_hist = status_groups.get_group('Charged Off')['credit_score'].hist()"
   ]
  },
  {
   "cell_type": "markdown",
   "metadata": {},
   "source": [
    "Investigate the correlation between annual income and paying the loan. Note the exponential (or maybe pareato?) distribution."
   ]
  },
  {
   "cell_type": "code",
   "execution_count": 15,
   "metadata": {},
   "outputs": [
    {
     "data": {
      "image/png": "[encoded data removed]",
      "text/plain": [
       "<Figure size 432x288 with 1 Axes>"
      ]
     },
     "metadata": {
      "needs_background": "light"
     },
     "output_type": "display_data"
    }
   ],
   "source": [
    "paid_salary_hist = status_groups.get_group('Charged Off')['annual_inc'].hist()"
   ]
  },
  {
   "cell_type": "code",
   "execution_count": 16,
   "metadata": {},
   "outputs": [
    {
     "data": {
      "image/png": "[encoded data removed]",
      "text/plain": [
       "<Figure size 432x288 with 1 Axes>"
      ]
     },
     "metadata": {
      "needs_background": "light"
     },
     "output_type": "display_data"
    }
   ],
   "source": [
    "paid_salary_hist = status_groups.get_group('Fully Paid')['annual_inc'].hist()"
   ]
  },
  {
   "cell_type": "code",
   "execution_count": 17,
   "metadata": {},
   "outputs": [
    {
     "data": {
      "image/png": "[encoded data removed]",
      "text/plain": [
       "<Figure size 432x288 with 1 Axes>"
      ]
     },
     "metadata": {
      "needs_background": "light"
     },
     "output_type": "display_data"
    }
   ],
   "source": [
    "paid_salary_hist = status_groups.get_group('Fully Paid')['total_bal_ex_mort'].hist()"
   ]
  },
  {
   "cell_type": "code",
   "execution_count": 18,
   "metadata": {},
   "outputs": [
    {
     "data": {
      "image/png": "[encoded data removed]",
      "text/plain": [
       "<Figure size 432x288 with 1 Axes>"
      ]
     },
     "metadata": {
      "needs_background": "light"
     },
     "output_type": "display_data"
    }
   ],
   "source": [
    "paid_salary_hist = status_groups.get_group('Charged Off')['total_bal_ex_mort'].hist()"
   ]
  },
  {
   "cell_type": "code",
   "execution_count": 19,
   "metadata": {},
   "outputs": [
    {
     "data": {
      "image/png": "[encoded data removed]",
      "text/plain": [
       "<Figure size 432x288 with 1 Axes>"
      ]
     },
     "metadata": {
      "needs_background": "light"
     },
     "output_type": "display_data"
    }
   ],
   "source": [
    "paid_salary_hist = status_groups.get_group('Fully Paid')['installment'].hist()"
   ]
  },
  {
   "cell_type": "code",
   "execution_count": 20,
   "metadata": {},
   "outputs": [
    {
     "data": {
      "image/png": "[encoded data removed]",
      "text/plain": [
       "<Figure size 432x288 with 1 Axes>"
      ]
     },
     "metadata": {
      "needs_background": "light"
     },
     "output_type": "display_data"
    }
   ],
   "source": [
    "paid_salary_hist = status_groups.get_group('Charged Off')['installment'].hist()"
   ]
  },
  {
   "cell_type": "code",
   "execution_count": 21,
   "metadata": {},
   "outputs": [
    {
     "data": {
      "image/png": "[encoded data removed]",
      "text/plain": [
       "<Figure size 432x288 with 1 Axes>"
      ]
     },
     "metadata": {
      "needs_background": "light"
     },
     "output_type": "display_data"
    }
   ],
   "source": [
    "paid_salary_hist = status_groups.get_group('Fully Paid')['emp_length'].dropna().astype(int).hist()"
   ]
  },
  {
   "cell_type": "code",
   "execution_count": 22,
   "metadata": {},
   "outputs": [
    {
     "data": {
      "image/png": "[encoded data removed]",
      "text/plain": [
       "<Figure size 432x288 with 1 Axes>"
      ]
     },
     "metadata": {
      "needs_background": "light"
     },
     "output_type": "display_data"
    }
   ],
   "source": [
    "paid_salary_hist = status_groups.get_group('Charged Off')['emp_length'].dropna().astype(int).hist()"
   ]
  },
  {
   "cell_type": "code",
   "execution_count": 23,
   "metadata": {},
   "outputs": [
    {
     "data": {
      "image/png": "[encoded data removed]",
      "text/plain": [
       "<Figure size 432x288 with 1 Axes>"
      ]
     },
     "metadata": {
      "needs_background": "light"
     },
     "output_type": "display_data"
    }
   ],
   "source": [
    "paid_salary_hist = status_groups.get_group('Fully Paid')['Grade'].dropna().astype(int).hist()"
   ]
  },
  {
   "cell_type": "code",
   "execution_count": 24,
   "metadata": {},
   "outputs": [
    {
     "data": {
      "image/png": "[encoded data removed]",
      "text/plain": [
       "<Figure size 432x288 with 1 Axes>"
      ]
     },
     "metadata": {
      "needs_background": "light"
     },
     "output_type": "display_data"
    }
   ],
   "source": [
    "paid_salary_hist = status_groups.get_group('Charged Off')['Grade'].dropna().astype(int).hist()"
   ]
  },
  {
   "cell_type": "code",
   "execution_count": 25,
   "metadata": {},
   "outputs": [
    {
     "data": {
      "text/html": [
       "<div>\n",
       "<style scoped>\n",
       "    .dataframe tbody tr th:only-of-type {\n",
       "        vertical-align: middle;\n",
       "    }\n",
       "\n",
       "    .dataframe tbody tr th {\n",
       "        vertical-align: top;\n",
       "    }\n",
       "\n",
       "    .dataframe thead th {\n",
       "        text-align: right;\n",
       "    }\n",
       "</style>\n",
       "<table border=\"1\" class=\"dataframe\">\n",
       "  <thead>\n",
       "    <tr style=\"text-align: right;\">\n",
       "      <th></th>\n",
       "      <th>credit_score</th>\n",
       "      <th>annual_inc</th>\n",
       "      <th>total_bal_ex_mort</th>\n",
       "      <th>installment</th>\n",
       "      <th>revol_util</th>\n",
       "      <th>Grade</th>\n",
       "      <th>paid</th>\n",
       "    </tr>\n",
       "  </thead>\n",
       "  <tbody>\n",
       "    <tr>\n",
       "      <td>7</td>\n",
       "      <td>687.0</td>\n",
       "      <td>48000.0</td>\n",
       "      <td>24646.0</td>\n",
       "      <td>549.77</td>\n",
       "      <td>48.3</td>\n",
       "      <td>17.0</td>\n",
       "      <td>0.0</td>\n",
       "    </tr>\n",
       "    <tr>\n",
       "      <td>15</td>\n",
       "      <td>677.0</td>\n",
       "      <td>45000.0</td>\n",
       "      <td>29070.0</td>\n",
       "      <td>596.32</td>\n",
       "      <td>76.5</td>\n",
       "      <td>11.0</td>\n",
       "      <td>0.0</td>\n",
       "    </tr>\n",
       "    <tr>\n",
       "      <td>17</td>\n",
       "      <td>717.0</td>\n",
       "      <td>100000.0</td>\n",
       "      <td>1014.0</td>\n",
       "      <td>1163.07</td>\n",
       "      <td>4.9</td>\n",
       "      <td>16.0</td>\n",
       "      <td>0.0</td>\n",
       "    </tr>\n",
       "    <tr>\n",
       "      <td>20</td>\n",
       "      <td>687.0</td>\n",
       "      <td>80000.0</td>\n",
       "      <td>45809.0</td>\n",
       "      <td>1300.55</td>\n",
       "      <td>60.2</td>\n",
       "      <td>16.0</td>\n",
       "      <td>0.0</td>\n",
       "    </tr>\n",
       "    <tr>\n",
       "      <td>28</td>\n",
       "      <td>702.0</td>\n",
       "      <td>69600.0</td>\n",
       "      <td>96116.0</td>\n",
       "      <td>339.31</td>\n",
       "      <td>32.4</td>\n",
       "      <td>23.0</td>\n",
       "      <td>0.0</td>\n",
       "    </tr>\n",
       "    <tr>\n",
       "      <td>31</td>\n",
       "      <td>677.0</td>\n",
       "      <td>130000.0</td>\n",
       "      <td>118108.0</td>\n",
       "      <td>825.99</td>\n",
       "      <td>88.0</td>\n",
       "      <td>21.0</td>\n",
       "      <td>0.0</td>\n",
       "    </tr>\n",
       "    <tr>\n",
       "      <td>34</td>\n",
       "      <td>662.0</td>\n",
       "      <td>67000.0</td>\n",
       "      <td>82697.0</td>\n",
       "      <td>488.60</td>\n",
       "      <td>53.6</td>\n",
       "      <td>23.0</td>\n",
       "      <td>0.0</td>\n",
       "    </tr>\n",
       "    <tr>\n",
       "      <td>49</td>\n",
       "      <td>672.0</td>\n",
       "      <td>55000.0</td>\n",
       "      <td>31392.0</td>\n",
       "      <td>356.27</td>\n",
       "      <td>7.6</td>\n",
       "      <td>23.0</td>\n",
       "      <td>0.0</td>\n",
       "    </tr>\n",
       "    <tr>\n",
       "      <td>59</td>\n",
       "      <td>672.0</td>\n",
       "      <td>165000.0</td>\n",
       "      <td>17069.0</td>\n",
       "      <td>1048.65</td>\n",
       "      <td>75.1</td>\n",
       "      <td>20.0</td>\n",
       "      <td>0.0</td>\n",
       "    </tr>\n",
       "    <tr>\n",
       "      <td>61</td>\n",
       "      <td>662.0</td>\n",
       "      <td>81000.0</td>\n",
       "      <td>44423.0</td>\n",
       "      <td>192.01</td>\n",
       "      <td>36.0</td>\n",
       "      <td>26.0</td>\n",
       "      <td>0.0</td>\n",
       "    </tr>\n",
       "  </tbody>\n",
       "</table>\n",
       "</div>"
      ],
      "text/plain": [
       "    credit_score  annual_inc  total_bal_ex_mort  installment  revol_util  \\\n",
       "7          687.0     48000.0            24646.0       549.77        48.3   \n",
       "15         677.0     45000.0            29070.0       596.32        76.5   \n",
       "17         717.0    100000.0             1014.0      1163.07         4.9   \n",
       "20         687.0     80000.0            45809.0      1300.55        60.2   \n",
       "28         702.0     69600.0            96116.0       339.31        32.4   \n",
       "31         677.0    130000.0           118108.0       825.99        88.0   \n",
       "34         662.0     67000.0            82697.0       488.60        53.6   \n",
       "49         672.0     55000.0            31392.0       356.27         7.6   \n",
       "59         672.0    165000.0            17069.0      1048.65        75.1   \n",
       "61         662.0     81000.0            44423.0       192.01        36.0   \n",
       "\n",
       "    Grade  paid  \n",
       "7    17.0   0.0  \n",
       "15   11.0   0.0  \n",
       "17   16.0   0.0  \n",
       "20   16.0   0.0  \n",
       "28   23.0   0.0  \n",
       "31   21.0   0.0  \n",
       "34   23.0   0.0  \n",
       "49   23.0   0.0  \n",
       "59   20.0   0.0  \n",
       "61   26.0   0.0  "
      ]
     },
     "execution_count": 25,
     "metadata": {},
     "output_type": "execute_result"
    }
   ],
   "source": [
    "predictorTitles=['credit_score','annual_inc','total_bal_ex_mort','installment','revol_util','Grade']\n",
    "df_paid_predictors=status_groups.get_group('Fully Paid')[predictorTitles].astype(float)\n",
    "df_charged_predictors= status_groups.get_group('Charged Off')[predictorTitles].astype(float)\n",
    "df_paid_predictors['paid'] = [float(1) for i in range(0,len(df_paid_predictors['credit_score']))]\n",
    "df_charged_predictors['paid'] = [float(0) for i in range(0,len(df_charged_predictors['credit_score']))]\n",
    "df_charged_predictors.head(10)"
   ]
  },
  {
   "cell_type": "markdown",
   "metadata": {},
   "source": [
    "Remake all the hists with normalized counts."
   ]
  },
  {
   "cell_type": "code",
   "execution_count": 26,
   "metadata": {},
   "outputs": [
    {
     "data": {
      "text/plain": [
       "array([[<matplotlib.axes._subplots.AxesSubplot object at 0x11f770dd0>,\n",
       "        <matplotlib.axes._subplots.AxesSubplot object at 0x11f997c50>,\n",
       "        <matplotlib.axes._subplots.AxesSubplot object at 0x11fa30f10>],\n",
       "       [<matplotlib.axes._subplots.AxesSubplot object at 0x11fa756d0>,\n",
       "        <matplotlib.axes._subplots.AxesSubplot object at 0x11faae9d0>,\n",
       "        <matplotlib.axes._subplots.AxesSubplot object at 0x11fae5cd0>],\n",
       "       [<matplotlib.axes._subplots.AxesSubplot object at 0x11fb1bd90>,\n",
       "        <matplotlib.axes._subplots.AxesSubplot object at 0x11fb5da90>,\n",
       "        <matplotlib.axes._subplots.AxesSubplot object at 0x11fb66690>]],\n",
       "      dtype=object)"
      ]
     },
     "execution_count": 26,
     "metadata": {},
     "output_type": "execute_result"
    },
    {
     "data": {
      "image/png": "[encoded data removed]",
      "text/plain": [
       "<Figure size 432x288 with 9 Axes>"
      ]
     },
     "metadata": {
      "needs_background": "light"
     },
     "output_type": "display_data"
    }
   ],
   "source": [
    "df_predictors = pd.concat([df_paid_predictors,df_charged_predictors])\n",
    "df_predictors.hist()"
   ]
  },
  {
   "cell_type": "markdown",
   "metadata": {},
   "source": [
    "Note that these plots tell us how we should scale the data. Grade and installment are approximatly normal. Annual income and total balance amortized are approximatly pareto. Paid is already bernoulli therefore it is min max normalized. Employment length is approximatly uniform so it should be min-max normalized. Credit score is approximatly exponential."
   ]
  },
  {
   "cell_type": "code",
   "execution_count": 28,
   "metadata": {},
   "outputs": [
    {
     "name": "stdout",
     "output_type": "stream",
     "text": [
      "   credit_score  annual_inc  total_bal_ex_mort  installment  revol_util  \\\n",
      "2      0.233333    0.045999           0.228911    -1.127861   -0.627838   \n",
      "3      0.166667    0.064089           0.059858     0.875177   -0.046882   \n",
      "5      0.333333    0.045999           0.103271    -1.340776   -0.219017   \n",
      "6      0.000000    0.018742           0.020426    -0.660375    0.073612   \n",
      "8      0.333333    0.080071           0.089614    -0.071288   -0.038276   \n",
      "\n",
      "      Grade  paid  \n",
      "2  1.240232   1.0  \n",
      "3 -0.639513   1.0  \n",
      "5  1.384828   1.0  \n",
      "6 -1.796280   1.0  \n",
      "8 -0.350322   1.0  \n"
     ]
    },
    {
     "data": {
      "text/plain": [
       "array([[<matplotlib.axes._subplots.AxesSubplot object at 0x122d451d0>,\n",
       "        <matplotlib.axes._subplots.AxesSubplot object at 0x11ff4bf90>,\n",
       "        <matplotlib.axes._subplots.AxesSubplot object at 0x11ff82850>],\n",
       "       [<matplotlib.axes._subplots.AxesSubplot object at 0x11ffb1f90>,\n",
       "        <matplotlib.axes._subplots.AxesSubplot object at 0x11ffef790>,\n",
       "        <matplotlib.axes._subplots.AxesSubplot object at 0x10289abd0>],\n",
       "       [<matplotlib.axes._subplots.AxesSubplot object at 0x1027f7610>,\n",
       "        <matplotlib.axes._subplots.AxesSubplot object at 0x122abe290>,\n",
       "        <matplotlib.axes._subplots.AxesSubplot object at 0x122ac6310>]],\n",
       "      dtype=object)"
      ]
     },
     "execution_count": 28,
     "metadata": {},
     "output_type": "execute_result"
    },
    {
     "data": {
      "image/png": "[encoded data removed]",
      "text/plain": [
       "<Figure size 432x288 with 9 Axes>"
      ]
     },
     "metadata": {
      "needs_background": "light"
     },
     "output_type": "display_data"
    }
   ],
   "source": [
    "print(df_predictors.head())\n",
    "df_predictors.hist()"
   ]
  },
  {
   "cell_type": "code",
   "execution_count": 30,
   "metadata": {},
   "outputs": [
    {
     "data": {
      "text/plain": [
       "246"
      ]
     },
     "execution_count": 30,
     "metadata": {},
     "output_type": "execute_result"
    }
   ],
   "source": [
    "inc_pareto_mles=stats.pareto.fit(df_predictors['annual_inc'].dropna())\n",
    "pareto_sample = stats.pareto.rvs(inc_pareto_mles[0],size=len(df_predictors['annual_inc'].dropna()),scale=inc_pareto_mles[2],loc=inc_pareto_mles[1])\n",
    "len(pareto_sample)"
   ]
  },
  {
   "cell_type": "code",
   "execution_count": 31,
   "metadata": {},
   "outputs": [
    {
     "data": {
      "text/plain": [
       "Ks_2sampResult(statistic=0.15447154471544716, pvalue=0.005581584641227869)"
      ]
     },
     "execution_count": 31,
     "metadata": {},
     "output_type": "execute_result"
    }
   ],
   "source": [
    "stats.ks_2samp(df_predictors['annual_inc'].dropna(),pareto_sample)"
   ]
  },
  {
   "cell_type": "markdown",
   "metadata": {},
   "source": [
    "Doesn't really seem to fit the pareto that well. Try exponential."
   ]
  },
  {
   "cell_type": "code",
   "execution_count": 32,
   "metadata": {},
   "outputs": [
    {
     "data": {
      "text/plain": [
       "(0.0, 0.09145936262375086)"
      ]
     },
     "execution_count": 32,
     "metadata": {},
     "output_type": "execute_result"
    }
   ],
   "source": [
    "inc_expo_mles=stats.expon.fit(df_predictors['annual_inc'].dropna())\n",
    "inc_expo_mles"
   ]
  },
  {
   "cell_type": "code",
   "execution_count": 33,
   "metadata": {},
   "outputs": [
    {
     "data": {
      "text/plain": [
       "Ks_2sampResult(statistic=0.15853658536585366, pvalue=0.004073577603953272)"
      ]
     },
     "execution_count": 33,
     "metadata": {},
     "output_type": "execute_result"
    }
   ],
   "source": [
    "expo_sample = stats.expon.rvs(scale=inc_expo_mles[1],size=len(df_predictors['annual_inc'].dropna()))\n",
    "stats.ks_2samp(df_predictors['annual_inc'].dropna(),expo_sample)"
   ]
  },
  {
   "cell_type": "markdown",
   "metadata": {},
   "source": [
    "Well that fit it a bit better."
   ]
  },
  {
   "cell_type": "markdown",
   "metadata": {},
   "source": [
    "# Correlations\n",
    "There are a lot of linear correlations in the data. Lets see if I can make a statistic that is better than the grade."
   ]
  },
  {
   "cell_type": "code",
   "execution_count": 34,
   "metadata": {},
   "outputs": [
    {
     "data": {
      "text/html": [
       "<div>\n",
       "<style scoped>\n",
       "    .dataframe tbody tr th:only-of-type {\n",
       "        vertical-align: middle;\n",
       "    }\n",
       "\n",
       "    .dataframe tbody tr th {\n",
       "        vertical-align: top;\n",
       "    }\n",
       "\n",
       "    .dataframe thead th {\n",
       "        text-align: right;\n",
       "    }\n",
       "</style>\n",
       "<table border=\"1\" class=\"dataframe\">\n",
       "  <thead>\n",
       "    <tr style=\"text-align: right;\">\n",
       "      <th></th>\n",
       "      <th>credit_score</th>\n",
       "      <th>annual_inc</th>\n",
       "      <th>total_bal_ex_mort</th>\n",
       "      <th>installment</th>\n",
       "      <th>revol_util</th>\n",
       "      <th>Grade</th>\n",
       "      <th>paid</th>\n",
       "    </tr>\n",
       "  </thead>\n",
       "  <tbody>\n",
       "    <tr>\n",
       "      <td>credit_score</td>\n",
       "      <td>1.000000</td>\n",
       "      <td>0.114132</td>\n",
       "      <td>0.069407</td>\n",
       "      <td>0.032906</td>\n",
       "      <td>-0.349406</td>\n",
       "      <td>0.440520</td>\n",
       "      <td>0.182326</td>\n",
       "    </tr>\n",
       "    <tr>\n",
       "      <td>annual_inc</td>\n",
       "      <td>0.114132</td>\n",
       "      <td>1.000000</td>\n",
       "      <td>0.628650</td>\n",
       "      <td>0.356981</td>\n",
       "      <td>0.085838</td>\n",
       "      <td>0.268331</td>\n",
       "      <td>0.089150</td>\n",
       "    </tr>\n",
       "    <tr>\n",
       "      <td>total_bal_ex_mort</td>\n",
       "      <td>0.069407</td>\n",
       "      <td>0.628650</td>\n",
       "      <td>1.000000</td>\n",
       "      <td>0.309363</td>\n",
       "      <td>0.152479</td>\n",
       "      <td>0.168428</td>\n",
       "      <td>0.106279</td>\n",
       "    </tr>\n",
       "    <tr>\n",
       "      <td>installment</td>\n",
       "      <td>0.032906</td>\n",
       "      <td>0.356981</td>\n",
       "      <td>0.309363</td>\n",
       "      <td>1.000000</td>\n",
       "      <td>0.124190</td>\n",
       "      <td>-0.096494</td>\n",
       "      <td>-0.067472</td>\n",
       "    </tr>\n",
       "    <tr>\n",
       "      <td>revol_util</td>\n",
       "      <td>-0.349406</td>\n",
       "      <td>0.085838</td>\n",
       "      <td>0.152479</td>\n",
       "      <td>0.124190</td>\n",
       "      <td>1.000000</td>\n",
       "      <td>-0.034361</td>\n",
       "      <td>-0.030767</td>\n",
       "    </tr>\n",
       "    <tr>\n",
       "      <td>Grade</td>\n",
       "      <td>0.440520</td>\n",
       "      <td>0.268331</td>\n",
       "      <td>0.168428</td>\n",
       "      <td>-0.096494</td>\n",
       "      <td>-0.034361</td>\n",
       "      <td>1.000000</td>\n",
       "      <td>0.303689</td>\n",
       "    </tr>\n",
       "    <tr>\n",
       "      <td>paid</td>\n",
       "      <td>0.182326</td>\n",
       "      <td>0.089150</td>\n",
       "      <td>0.106279</td>\n",
       "      <td>-0.067472</td>\n",
       "      <td>-0.030767</td>\n",
       "      <td>0.303689</td>\n",
       "      <td>1.000000</td>\n",
       "    </tr>\n",
       "  </tbody>\n",
       "</table>\n",
       "</div>"
      ],
      "text/plain": [
       "                   credit_score  annual_inc  total_bal_ex_mort  installment  \\\n",
       "credit_score           1.000000    0.114132           0.069407     0.032906   \n",
       "annual_inc             0.114132    1.000000           0.628650     0.356981   \n",
       "total_bal_ex_mort      0.069407    0.628650           1.000000     0.309363   \n",
       "installment            0.032906    0.356981           0.309363     1.000000   \n",
       "revol_util            -0.349406    0.085838           0.152479     0.124190   \n",
       "Grade                  0.440520    0.268331           0.168428    -0.096494   \n",
       "paid                   0.182326    0.089150           0.106279    -0.067472   \n",
       "\n",
       "                   revol_util     Grade      paid  \n",
       "credit_score        -0.349406  0.440520  0.182326  \n",
       "annual_inc           0.085838  0.268331  0.089150  \n",
       "total_bal_ex_mort    0.152479  0.168428  0.106279  \n",
       "installment          0.124190 -0.096494 -0.067472  \n",
       "revol_util           1.000000 -0.034361 -0.030767  \n",
       "Grade               -0.034361  1.000000  0.303689  \n",
       "paid                -0.030767  0.303689  1.000000  "
      ]
     },
     "execution_count": 34,
     "metadata": {},
     "output_type": "execute_result"
    }
   ],
   "source": [
    "df_predictors.corr()"
   ]
  },
  {
   "cell_type": "markdown",
   "metadata": {},
   "source": [
    "Are there some transformation I can do to make the data more useful?"
   ]
  },
  {
   "cell_type": "code",
   "execution_count": 35,
   "metadata": {},
   "outputs": [
    {
     "data": {
      "text/html": [
       "<div>\n",
       "<style scoped>\n",
       "    .dataframe tbody tr th:only-of-type {\n",
       "        vertical-align: middle;\n",
       "    }\n",
       "\n",
       "    .dataframe tbody tr th {\n",
       "        vertical-align: top;\n",
       "    }\n",
       "\n",
       "    .dataframe thead th {\n",
       "        text-align: right;\n",
       "    }\n",
       "</style>\n",
       "<table border=\"1\" class=\"dataframe\">\n",
       "  <thead>\n",
       "    <tr style=\"text-align: right;\">\n",
       "      <th></th>\n",
       "      <th>PCA0</th>\n",
       "      <th>PCA1</th>\n",
       "      <th>PCA2</th>\n",
       "      <th>PCA3</th>\n",
       "      <th>paid</th>\n",
       "    </tr>\n",
       "  </thead>\n",
       "  <tbody>\n",
       "    <tr>\n",
       "      <td>PCA0</td>\n",
       "      <td>1.000000e+00</td>\n",
       "      <td>-3.102699e-17</td>\n",
       "      <td>-6.092576e-16</td>\n",
       "      <td>2.603581e-16</td>\n",
       "      <td>-0.194954</td>\n",
       "    </tr>\n",
       "    <tr>\n",
       "      <td>PCA1</td>\n",
       "      <td>-3.102699e-17</td>\n",
       "      <td>1.000000e+00</td>\n",
       "      <td>4.548639e-16</td>\n",
       "      <td>-6.513659e-17</td>\n",
       "      <td>-0.225489</td>\n",
       "    </tr>\n",
       "    <tr>\n",
       "      <td>PCA2</td>\n",
       "      <td>-6.092576e-16</td>\n",
       "      <td>4.548639e-16</td>\n",
       "      <td>1.000000e+00</td>\n",
       "      <td>8.793431e-17</td>\n",
       "      <td>0.075291</td>\n",
       "    </tr>\n",
       "    <tr>\n",
       "      <td>PCA3</td>\n",
       "      <td>2.603581e-16</td>\n",
       "      <td>-6.513659e-17</td>\n",
       "      <td>8.793431e-17</td>\n",
       "      <td>1.000000e+00</td>\n",
       "      <td>0.051851</td>\n",
       "    </tr>\n",
       "    <tr>\n",
       "      <td>paid</td>\n",
       "      <td>-1.949540e-01</td>\n",
       "      <td>-2.254892e-01</td>\n",
       "      <td>7.529091e-02</td>\n",
       "      <td>5.185060e-02</td>\n",
       "      <td>1.000000</td>\n",
       "    </tr>\n",
       "  </tbody>\n",
       "</table>\n",
       "</div>"
      ],
      "text/plain": [
       "              PCA0          PCA1          PCA2          PCA3      paid\n",
       "PCA0  1.000000e+00 -3.102699e-17 -6.092576e-16  2.603581e-16 -0.194954\n",
       "PCA1 -3.102699e-17  1.000000e+00  4.548639e-16 -6.513659e-17 -0.225489\n",
       "PCA2 -6.092576e-16  4.548639e-16  1.000000e+00  8.793431e-17  0.075291\n",
       "PCA3  2.603581e-16 -6.513659e-17  8.793431e-17  1.000000e+00  0.051851\n",
       "paid -1.949540e-01 -2.254892e-01  7.529091e-02  5.185060e-02  1.000000"
      ]
     },
     "execution_count": 35,
     "metadata": {},
     "output_type": "execute_result"
    }
   ],
   "source": [
    "df_transformed = df_predictors\n",
    "pca = PCA(4)\n",
    "pca.fit(df_transformed.drop(['paid'],axis=1))\n",
    "df_transformed=pd.DataFrame(pca.transform(df_transformed.drop(['paid'],axis=1)), columns=['PCA%i' % i for i in range(4)], index=df_transformed.index)\n",
    "df_transformed['paid']=df_predictors['paid']\n",
    "df_transformed.corr()"
   ]
  },
  {
   "cell_type": "markdown",
   "metadata": {},
   "source": [
    "# Regression\n",
    "This is the interesting result. It will also show if the PCA helps."
   ]
  },
  {
   "cell_type": "code",
   "execution_count": 36,
   "metadata": {},
   "outputs": [
    {
     "name": "stdout",
     "output_type": "stream",
     "text": [
      "   credit_score  annual_inc  total_bal_ex_mort  installment  revol_util  \\\n",
      "0      0.333333    0.045999           0.103271    -1.340776   -0.219017   \n",
      "1      0.233333    0.069849           0.194915     0.358193   -0.498737   \n",
      "2      0.000000    0.069168           0.171347    -0.377611    0.280174   \n",
      "3      0.233333    0.018742           0.027336     0.272024   -0.137253   \n",
      "4      0.033333    0.059628           0.043006     0.236273    0.947197   \n",
      "5      0.566667    0.085522           0.119664     0.032376   -0.954894   \n",
      "6      0.000000    0.075982           0.052631     0.509958    0.258657   \n",
      "7      0.033333    0.023648           0.056519    -1.550230   -0.369635   \n",
      "8      0.133333    0.080071           0.137365     0.999636   -0.632141   \n",
      "9      0.133333    0.100514           0.164352     1.209344   -0.993625   \n",
      "\n",
      "      Grade  paid  \n",
      "0  1.384828   1.0  \n",
      "1 -1.796280   0.0  \n",
      "2 -0.061130   0.0  \n",
      "3 -0.350322   1.0  \n",
      "4 -0.350322   0.0  \n",
      "5  1.384828   1.0  \n",
      "6 -2.953046   0.0  \n",
      "7 -1.796280   0.0  \n",
      "8  0.372657   1.0  \n",
      "9  0.228062   1.0  \n",
      "test score = 0.03880292206181202\n",
      "train score = 0.10225368551172542\n"
     ]
    }
   ],
   "source": [
    "train, test = dataSplitter(df_predictors.values,test_size=.1,shuffle=True)\n",
    "df_train = pd.DataFrame(train,columns=df_predictors.columns)\n",
    "print(df_train.head(10))\n",
    "df_test = pd.DataFrame(test,columns=df_predictors.columns)\n",
    "reg = LinearRegression().fit(df_train.drop('paid',axis=1),df_train['paid'])\n",
    "print(\"test score = \"+str( reg.score(df_test.drop('paid',axis=1),df_test['paid'])))\n",
    "print(\"train score = \" + str(reg.score(df_train.drop('paid',axis=1),df_train['paid'])))"
   ]
  },
  {
   "cell_type": "code",
   "execution_count": 37,
   "metadata": {},
   "outputs": [
    {
     "name": "stdout",
     "output_type": "stream",
     "text": [
      "       PCA0      PCA1      PCA2      PCA3  paid\n",
      "0 -0.013723 -0.011040 -2.309004  0.460919   1.0\n",
      "1  0.631038 -0.729351 -1.069314 -0.063214   1.0\n",
      "2 -0.280346 -0.042166  1.930532 -0.029364   1.0\n",
      "3  0.333557  0.206884  2.688010  0.357334   1.0\n",
      "4  0.009737  1.374087 -0.777347 -0.029219   1.0\n",
      "5  0.567784 -1.358372 -0.043605 -0.010741   1.0\n",
      "6 -1.307081  0.104906 -0.609945 -0.240767   0.0\n",
      "7  0.091122  1.039940  0.330647  0.137421   1.0\n",
      "8 -0.905666 -0.055113 -0.394578 -0.203701   1.0\n",
      "9 -0.644156  0.466758  2.134409 -0.257825   0.0\n",
      "test score = 0.18107972046796184\n",
      "train score = 0.08582372818090889\n"
     ]
    }
   ],
   "source": [
    "train, test = dataSplitter(df_transformed.values,test_size=.1,shuffle=True)\n",
    "df_train = pd.DataFrame(train,columns=df_transformed.columns)\n",
    "print(df_train.head(10))\n",
    "df_test = pd.DataFrame(test,columns=df_transformed.columns)\n",
    "reg = LinearRegression().fit(df_train.drop('paid',axis=1),df_train['paid'])\n",
    "print(\"test score = \"+str( reg.score(df_test.drop('paid',axis=1),df_test['paid'])))\n",
    "print(\"train score = \" + str(reg.score(df_train.drop('paid',axis=1),df_train['paid'])))"
   ]
  },
  {
   "cell_type": "markdown",
   "metadata": {},
   "source": [
    "Looks like linear regression does bad either way. What about PLS?"
   ]
  },
  {
   "cell_type": "code",
   "execution_count": 38,
   "metadata": {},
   "outputs": [
    {
     "name": "stdout",
     "output_type": "stream",
     "text": [
      "   credit_score  annual_inc  total_bal_ex_mort  installment  revol_util  \\\n",
      "0      0.100000    0.025556           0.017817    -0.126374   -0.378242   \n",
      "1      0.100000    0.114142           0.132865     1.206011    1.485119   \n",
      "2      0.566667    0.085522           0.119664     0.032376   -0.954894   \n",
      "3      0.900000    0.052813           0.097952    -1.144720   -1.785446   \n",
      "4      0.166667    0.056902           0.075695     0.838982    2.027344   \n",
      "5      0.033333    0.043273           0.078078    -1.175168   -0.029669   \n",
      "6      0.133333    0.086885           0.154808    -0.231180    1.868119   \n",
      "7      0.066667    0.099914           0.013329    -0.717494    1.893940   \n",
      "8      0.333333    0.045999           0.103271    -1.340776   -0.219017   \n",
      "9      0.333333    0.050088           0.092306     0.211509   -0.735422   \n",
      "\n",
      "      Grade  paid  \n",
      "0 -2.230067   1.0  \n",
      "1 -0.061130   1.0  \n",
      "2  1.384828   1.0  \n",
      "3  1.384828   1.0  \n",
      "4 -0.494917   1.0  \n",
      "5  0.372657   1.0  \n",
      "6 -0.639513   1.0  \n",
      "7  0.806445   1.0  \n",
      "8  1.384828   1.0  \n",
      "9 -0.784109   1.0  \n",
      "test score = -0.05443176266316918\n",
      "train score = 0.11601752121191433\n"
     ]
    }
   ],
   "source": [
    "train, test = dataSplitter(df_predictors.values,test_size=.1,shuffle=True)\n",
    "df_train = pd.DataFrame(train,columns=df_predictors.columns)\n",
    "print(df_train.head(10))\n",
    "df_test = pd.DataFrame(test,columns=df_predictors.columns)\n",
    "reg = PLSRegression(3).fit(df_train.drop('paid',axis=1),df_train['paid'])\n",
    "print(\"test score = \"+str( reg.score(df_test.drop('paid',axis=1),df_test['paid'])))\n",
    "print(\"train score = \" + str(reg.score(df_train.drop('paid',axis=1),df_train['paid'])))"
   ]
  },
  {
   "cell_type": "markdown",
   "metadata": {},
   "source": [
    "Also does not do well. Can I bag this?"
   ]
  },
  {
   "cell_type": "code",
   "execution_count": 446,
   "metadata": {},
   "outputs": [
    {
     "name": "stdout",
     "output_type": "stream",
     "text": [
      "test score = 0.021093231196530504\n",
      "train score = 0.10192350820310736\n"
     ]
    }
   ],
   "source": [
    "train, test = dataSplitter(df_predictors.values,test_size=.1,shuffle=True)\n",
    "df_train = pd.DataFrame(train,columns=df_predictors.columns)\n",
    "df_test = pd.DataFrame(test,columns=df_predictors.columns)\n",
    "reg = ensemble.BaggingRegressor(LinearRegression(),n_estimators=100,max_samples=100,max_features=5,bootstrap_features=True,oob_score=False).fit(df_train.drop('paid',axis=1),df_train['paid'])\n",
    "print(\"test score = \"+str( reg.score(df_test.drop('paid',axis=1),df_test['paid'])))\n",
    "print(\"train score = \" + str(reg.score(df_train.drop('paid',axis=1),df_train['paid'])))"
   ]
  },
  {
   "cell_type": "markdown",
   "metadata": {},
   "source": [
    "Bagging doesn't work either! I am predicting a bernoulli so I should probably use logistic!"
   ]
  },
  {
   "cell_type": "code",
   "execution_count": 42,
   "metadata": {},
   "outputs": [
    {
     "name": "stdout",
     "output_type": "stream",
     "text": [
      "test score = 0.88\n",
      "train score = 0.8190045248868778\n"
     ]
    },
    {
     "data": {
      "text/plain": [
       "{'cv': 3,\n",
       " 'error_score': 'raise-deprecating',\n",
       " 'estimator__C': 1.0,\n",
       " 'estimator__class_weight': None,\n",
       " 'estimator__dual': False,\n",
       " 'estimator__fit_intercept': True,\n",
       " 'estimator__intercept_scaling': 1,\n",
       " 'estimator__l1_ratio': None,\n",
       " 'estimator__max_iter': 100,\n",
       " 'estimator__multi_class': 'warn',\n",
       " 'estimator__n_jobs': None,\n",
       " 'estimator__penalty': 'l1',\n",
       " 'estimator__random_state': None,\n",
       " 'estimator__solver': 'liblinear',\n",
       " 'estimator__tol': 0.0001,\n",
       " 'estimator__verbose': 0,\n",
       " 'estimator__warm_start': False,\n",
       " 'estimator': LogisticRegression(C=1.0, class_weight=None, dual=False, fit_intercept=True,\n",
       "                    intercept_scaling=1, l1_ratio=None, max_iter=100,\n",
       "                    multi_class='warn', n_jobs=None, penalty='l1',\n",
       "                    random_state=None, solver='liblinear', tol=0.0001, verbose=0,\n",
       "                    warm_start=False),\n",
       " 'iid': 'warn',\n",
       " 'n_jobs': None,\n",
       " 'param_grid': {'tol': [1e-05, 0.0001, 0.001], 'C': [0.01, 0.1, 1, 10, 100]},\n",
       " 'pre_dispatch': '2*n_jobs',\n",
       " 'refit': True,\n",
       " 'return_train_score': False,\n",
       " 'scoring': None,\n",
       " 'verbose': 0}"
      ]
     },
     "execution_count": 42,
     "metadata": {},
     "output_type": "execute_result"
    }
   ],
   "source": [
    "df_predictors['paid']=df_predictors['paid'].apply(lambda x: x*2-1) #make it 1 and -1 instead of 1 and 0\n",
    "train, test = dataSplitter(df_predictors.values,test_size=.1,shuffle=True)\n",
    "df_train = pd.DataFrame(train,columns=df_predictors.columns)\n",
    "df_test = pd.DataFrame(test,columns=df_predictors.columns)\n",
    "reg = GridSearchCV(LogisticRegression(penalty='l1',solver='liblinear'),{'tol':[1e-5,1e-4,1e-3],'C':[.01,.1,1,10,100]},cv=3).fit(df_train.drop('paid',axis=1),df_train['paid'])\n",
    "print(\"test score = \"+str(reg.score(df_test.drop('paid',axis=1),df_test['paid'])))\n",
    "print(\"train score = \" + str(reg.score(df_train.drop('paid',axis=1),df_train['paid'])))\n",
    "reg.get_params()"
   ]
  },
  {
   "cell_type": "markdown",
   "metadata": {},
   "source": [
    "Works! Does it work with the PCA?"
   ]
  },
  {
   "cell_type": "code",
   "execution_count": 44,
   "metadata": {},
   "outputs": [
    {
     "name": "stdout",
     "output_type": "stream",
     "text": [
      "test score = 0.8\n",
      "train score = 0.8235294117647058\n"
     ]
    },
    {
     "data": {
      "text/plain": [
       "{'cv': 3,\n",
       " 'error_score': 'raise-deprecating',\n",
       " 'estimator__C': 1.0,\n",
       " 'estimator__class_weight': None,\n",
       " 'estimator__dual': False,\n",
       " 'estimator__fit_intercept': True,\n",
       " 'estimator__intercept_scaling': 1,\n",
       " 'estimator__l1_ratio': None,\n",
       " 'estimator__max_iter': 100,\n",
       " 'estimator__multi_class': 'warn',\n",
       " 'estimator__n_jobs': None,\n",
       " 'estimator__penalty': 'l1',\n",
       " 'estimator__random_state': None,\n",
       " 'estimator__solver': 'liblinear',\n",
       " 'estimator__tol': 0.0001,\n",
       " 'estimator__verbose': 0,\n",
       " 'estimator__warm_start': False,\n",
       " 'estimator': LogisticRegression(C=1.0, class_weight=None, dual=False, fit_intercept=True,\n",
       "                    intercept_scaling=1, l1_ratio=None, max_iter=100,\n",
       "                    multi_class='warn', n_jobs=None, penalty='l1',\n",
       "                    random_state=None, solver='liblinear', tol=0.0001, verbose=0,\n",
       "                    warm_start=False),\n",
       " 'iid': 'warn',\n",
       " 'n_jobs': None,\n",
       " 'param_grid': {'tol': [1e-05, 0.0001, 0.001], 'C': [0.01, 0.1, 1, 10, 100]},\n",
       " 'pre_dispatch': '2*n_jobs',\n",
       " 'refit': True,\n",
       " 'return_train_score': False,\n",
       " 'scoring': None,\n",
       " 'verbose': 0}"
      ]
     },
     "execution_count": 44,
     "metadata": {},
     "output_type": "execute_result"
    }
   ],
   "source": [
    "df_predictors['paid']=df_predictors['paid'].apply(lambda x: x*2-1) #make it 1 and -1 instead of 1 and 0\n",
    "pca.fit(df_transformed.drop(['paid'],axis=1))\n",
    "df_transformed=pd.DataFrame(pca.transform(df_transformed.drop(['paid'],axis=1)), columns=['PCA%i' % i for i in range(4)], index=df_transformed.index)\n",
    "df_transformed['paid']=df_predictors['paid']\n",
    "train, test = dataSplitter(df_transformed.values,test_size=.1,shuffle=True)\n",
    "df_train = pd.DataFrame(train,columns=df_transformed.columns)\n",
    "df_test = pd.DataFrame(test,columns=df_transformed.columns)\n",
    "reg = GridSearchCV(LogisticRegression(penalty='l1',solver='liblinear'),{'tol':[1e-5,1e-4,1e-3],'C':[.01,.1,1,10,100]},cv=3).fit(df_train.drop('paid',axis=1),df_train['paid'])\n",
    "print(\"test score = \"+str( reg.score(df_test.drop('paid',axis=1),df_test['paid'])))\n",
    "print(\"train score = \" + str(reg.score(df_train.drop('paid',axis=1),df_train['paid'])))\n",
    "reg.get_params()"
   ]
  },
  {
   "cell_type": "markdown",
   "metadata": {},
   "source": [
    "Basically the same with the PCA. I won't use it for simplicity sake."
   ]
  },
  {
   "cell_type": "code",
   "execution_count": null,
   "metadata": {},
   "outputs": [],
   "source": []
  },
  {
   "cell_type": "markdown",
   "metadata": {},
   "source": [
    "# Trival Summary\n",
    "Simple Logistic regression seems to be a good predictor of if the loan will be charged off"
   ]
  },
  {
   "cell_type": "markdown",
   "metadata": {},
   "source": []
  },
  {
   "cell_type": "code",
   "execution_count": null,
   "metadata": {},
   "outputs": [],
   "source": []
  },
  {
   "cell_type": "markdown",
   "metadata": {},
   "source": [
    "## Ideas\n",
    "1) Not all charged off loans are equally bad. I could weight them by how much of the principle is charged off"
   ]
  },
  {
   "cell_type": "code",
   "execution_count": null,
   "metadata": {},
   "outputs": [],
   "source": []
  }
 ],
 "metadata": {
  "kernelspec": {
   "display_name": "Python 3",
   "language": "python",
   "name": "python3"
  },
  "language_info": {
   "codemirror_mode": {
    "name": "ipython",
    "version": 3
   },
   "file_extension": ".py",
   "mimetype": "text/x-python",
   "name": "python",
   "nbconvert_exporter": "python",
   "pygments_lexer": "ipython3",
   "version": "3.7.4"
  }
 },
 "nbformat": 4,
 "nbformat_minor": 2
}
